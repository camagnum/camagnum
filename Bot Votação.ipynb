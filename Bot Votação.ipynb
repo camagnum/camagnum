{
 "cells": [
  {
   "cell_type": "code",
   "execution_count": 1,
   "metadata": {},
   "outputs": [],
   "source": [
    "import pyautogui as pya\n",
    "import time"
   ]
  },
  {
   "cell_type": "code",
   "execution_count": null,
   "metadata": {},
   "outputs": [],
   "source": [
    "time.sleep(2)\n",
    "pya.scroll(-10)"
   ]
  },
  {
   "cell_type": "code",
   "execution_count": null,
   "metadata": {},
   "outputs": [],
   "source": [
    "time.sleep(5)\n",
    "pya.position()"
   ]
  },
  {
   "cell_type": "code",
   "execution_count": 4,
   "metadata": {},
   "outputs": [
    {
     "name": "stdout",
     "output_type": "stream",
     "text": [
      "Voto 1 concluído.\n",
      "Voto 2 concluído.\n",
      "Voto 3 concluído.\n",
      "Voto 4 concluído.\n",
      "Voto 5 concluído.\n",
      "Voto 6 concluído.\n",
      "Voto 7 concluído.\n",
      "Voto 8 concluído.\n",
      "Voto 9 concluído.\n",
      "Voto 10 concluído.\n",
      "Voto 11 concluído.\n",
      "Voto 12 concluído.\n",
      "Voto 13 concluído.\n",
      "Voto 14 concluído.\n",
      "Voto 15 concluído.\n"
     ]
    }
   ],
   "source": [
    "aux = 1\n",
    "while aux < 16:\n",
    "    pya.hotkey('ctrl','t')\n",
    "    pya.write('https://futebolnordestino.paperform.co/')\n",
    "    pya.press('enter')\n",
    "    time.sleep(3)\n",
    "    pya.press('pgdn')\n",
    "    time.sleep(1)\n",
    "    pya.click(x=951, y=221) #votar FECxCRB\n",
    "    pya.click(x=761, y=437) #votar Yuri\n",
    "    pya.press('pgdn')\n",
    "    time.sleep(1)\n",
    "    pya.click(x=761, y=437) #votar David\n",
    "    pya.press('pgdn')\n",
    "    time.sleep(1)\n",
    "    pya.click(x=365, y=341) #votar FEC\n",
    "    pya.press('pgdn')\n",
    "    time.sleep(1)\n",
    "    pya.click(x=443, y=664) #votar Dudu\n",
    "    pya.press('pgdn')\n",
    "    time.sleep(1)\n",
    "    pya.click(x=761, y=437) #votar Arcanjo\n",
    "    pya.click(x=596, y=655) #votar Reginaldo\n",
    "    pya.press('pgdn')\n",
    "    time.sleep(1)\n",
    "    pya.click(x=785, y=345) #votar Benevenuto\n",
    "    pya.click(x=756, y=644) #votar Crispim\n",
    "    pya.press('pgdn')\n",
    "    time.sleep(1)\n",
    "    pya.click(x=384, y=352) #votar Ederson\n",
    "    pya.click(x=463, y=571) #votar Pikachu\n",
    "    pya.press('pgdn')\n",
    "    time.sleep(1)\n",
    "    pya.click(x=607, y=270) #votar Dellatorre\n",
    "    pya.press('pgdn')\n",
    "    time.sleep(1)\n",
    "    pya.click(x=369, y=156) #inserir nome\n",
    "    pya.write('Carlos Ribeiro')\n",
    "    pya.click(x=382, y=260) #inserir email\n",
    "    pya.write('camagnumrb@hotmail.com')\n",
    "    pya.click(x=499, y=385)\n",
    "    pya.hotkey('ctrl','t')\n",
    "    time.sleep(1)\n",
    "    pya.write('https://www.4devs.com.br/gerador_de_cpf')\n",
    "    pya.press('enter')\n",
    "    time.sleep(3)\n",
    "    pya.click(x=616, y=367) #sem pontuação\n",
    "    time.sleep(1)\n",
    "    pya.click(x=811, y=438) #gerar CPF\n",
    "    time.sleep(1)\n",
    "    pya.click(x=802, y=523) #copiar\n",
    "    time.sleep(1)\n",
    "    pya.hotkey('ctrl','w') #fechar gerador de CPF\n",
    "    time.sleep(1)\n",
    "    pya.click(x=481, y=383)\n",
    "    time.sleep(1)\n",
    "    pya.hotkey('ctrl','v') #colar CPF\n",
    "    time.sleep(1)\n",
    "    pya.click(x=520, y=499) #inserir clube do coração\n",
    "    pya.write('Vitoria')\n",
    "    time.sleep(1)\n",
    "    pya.scroll(-8)\n",
    "    time.sleep(1)\n",
    "    pya.click(x=685, y=577) #submit\n",
    "    time.sleep(2)\n",
    "    pya.hotkey('ctrl','w')\n",
    "    time.sleep(2)\n",
    "    print(f'Voto {aux} concluído.')\n",
    "    time.sleep(1)\n",
    "    aux+=1"
   ]
  }
 ],
 "metadata": {
  "kernelspec": {
   "display_name": "Python 3",
   "language": "python",
   "name": "python3"
  },
  "language_info": {
   "codemirror_mode": {
    "name": "ipython",
    "version": 3
   },
   "file_extension": ".py",
   "mimetype": "text/x-python",
   "name": "python",
   "nbconvert_exporter": "python",
   "pygments_lexer": "ipython3",
   "version": "3.7.3"
  }
 },
 "nbformat": 4,
 "nbformat_minor": 2
}
