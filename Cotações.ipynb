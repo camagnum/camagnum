{
 "cells": [
  {
   "cell_type": "code",
   "execution_count": 2,
   "metadata": {
    "scrolled": true
   },
   "outputs": [],
   "source": [
    "import pandas as pd\n",
    "import pyautogui\n",
    "import pyperclip\n",
    "import time\n",
    "from datetime import datetime\n",
    "from selenium import webdriver\n",
    "from selenium.webdriver.common.keys import Keys"
   ]
  },
  {
   "cell_type": "code",
   "execution_count": 5,
   "metadata": {},
   "outputs": [],
   "source": [
    "navegador = webdriver.Chrome()\n",
    "navegador.get(\"https://www.google.com\")\n",
    "navegador.find_element('xpath','//*[@id=\"APjFqb\"]').send_keys('teste')"
   ]
  },
  {
   "cell_type": "code",
   "execution_count": null,
   "metadata": {
    "scrolled": true
   },
   "outputs": [],
   "source": [
    "while True:    \n",
    "    now = datetime.now()\n",
    "    mydatetime = now.strftime(\"%d/%m/%Y %H:%M:%S\")\n",
    "\n",
    "    navegador = webdriver.Chrome()\n",
    "\n",
    "    navegador.get(\"https://www.google.com\")\n",
    "    navegador.find_element('name','q').send_keys('cotação dólar')\n",
    "    navegador.find_element('name','q').send_keys(Keys.ENTER)\n",
    "    cotacao_dolar = navegador.find_element('xpath',\n",
    "        '//*[@id=\"knowledge-currency__updatable-data-column\"]/div[1]/div[2]/span[1]').get_attribute(\"data-value\")\n",
    "\n",
    "    navegador.get(\"https://www.google.com\")\n",
    "    navegador.find_element('name','q').send_keys('cotação euro')\n",
    "    navegador.find_element('name','q').send_keys(Keys.ENTER)\n",
    "    cotacao_euro = navegador.find_element('xpath',\n",
    "        '//*[@id=\"knowledge-currency__updatable-data-column\"]/div[1]/div[2]/span[1]').get_attribute(\"data-value\")\n",
    "\n",
    "    navegador.get(\"https://www.google.com\")\n",
    "    navegador.find_element('name','q').send_keys('cotação libra')\n",
    "    navegador.find_element('name','q').send_keys(Keys.ENTER)\n",
    "    cotacao_libra = navegador.find_element('xpath',\n",
    "        '//*[@id=\"knowledge-currency__updatable-data-column\"]/div[1]/div[2]/span[1]').get_attribute(\"data-value\")\n",
    "\n",
    "    navegador.get(\"https://www.google.com\")\n",
    "    navegador.find_element('name','q').send_keys('cotação peso')\n",
    "    navegador.find_element('name','q').send_keys(Keys.ENTER)\n",
    "    cotacao_peso = navegador.find_element('xpath',\n",
    "        '//*[@id=\"knowledge-currency__updatable-data-column\"]/div[1]/div[2]/span[1]').get_attribute(\"data-value\")\n",
    "\n",
    "    navegador.get(\"https://www.google.com\")\n",
    "    navegador.find_element('name','q').send_keys('cotação won')\n",
    "    navegador.find_element('name','q').send_keys(Keys.ENTER)\n",
    "    cotacao_won = navegador.find_element('xpath',\n",
    "        '//*[@id=\"knowledge-currency__updatable-data-column\"]/div[1]/div[2]/span[1]').get_attribute(\"data-value\")\n",
    "\n",
    "    navegador.get(\"https://www.google.com\")\n",
    "    navegador.find_element('name','q').send_keys('cotação iene')\n",
    "    navegador.find_element('name','q').send_keys(Keys.ENTER)\n",
    "    cotacao_iene = navegador.find_element('xpath',\n",
    "        '//*[@id=\"knowledge-currency__updatable-data-column\"]/div[1]/div[2]/span[1]').get_attribute(\"data-value\")\n",
    "\n",
    "    '''\n",
    "    navegador.get(\"https://www.google.com\")\n",
    "    navegador.find_element_by_xpath(\n",
    "        '/html/body/div[1]/div[3]/form/div[1]/div[1]/div[1]/div/div[2]/input').send_keys('cotação bitcoin')\n",
    "    navegador.find_element_by_xpath(\n",
    "        '/html/body/div[1]/div[3]/form/div[1]/div[1]/div[1]/div/div[2]/input').send_keys(Keys.ENTER)\n",
    "    cotacao_bitcoin = navegador.find_element_by_xpath(\n",
    "        '//*[@id=\"knowledge-currency__updatable-data-column\"]/div[1]/div[2]/span[1]').get_attribute(\"data-value\")\n",
    "    '''\n",
    "    \n",
    "    navegador.get(\"https://www.melhorcambio.com/ouro-hoje\")\n",
    "    cotacao_ouro = navegador.find_element('xpath','//*[@id=\"comercial\"]').get_attribute(\"value\")\n",
    "    cotacao_ouro = cotacao_ouro.replace(\",\",\".\")\n",
    "\n",
    "    navegador.quit()\n",
    "\n",
    "\n",
    "    tabela = pd.read_excel('Cotações Moedas.xlsx')\n",
    "\n",
    "    tabela.loc[len(tabela)] = [mydatetime,float(cotacao_dolar),float(cotacao_euro),float(cotacao_libra),\n",
    "                               float(cotacao_peso),float(cotacao_won),float(cotacao_iene),float(cotacao_ouro)]\n",
    "    tabela.index = tabela.index + 1  # shifting index\n",
    "    tabela = tabela.sort_index()     # sorting by index\n",
    "\n",
    "    tabela[\"Dólar\"] = tabela[\"Dólar\"].map(\"{:.2f}\".format)\n",
    "    tabela[\"Euro\"] = tabela[\"Euro\"].map(\"{:.2f}\".format)\n",
    "    tabela[\"Libra\"] = tabela[\"Libra\"].map(\"{:.2f}\".format)\n",
    "    tabela[\"Peso\"] = tabela[\"Peso\"].map(\"{:.3f}\".format)\n",
    "    tabela[\"Won\"] = tabela[\"Won\"].map(\"{:.4f}\".format)\n",
    "    tabela[\"Iene\"] = tabela[\"Iene\"].map(\"{:.3f}\".format)\n",
    "    tabela[\"Ouro\"] = tabela[\"Ouro\"].map(\"{:.2f}\".format)\n",
    "\n",
    "    tabela.to_excel(f'Cotações Moedas.xlsx',index=False)\n",
    "\n",
    "    print(f\"Cotações atualizadas: {mydatetime}\")\n",
    "    \n",
    "    time.sleep(3578)"
   ]
  },
  {
   "cell_type": "code",
   "execution_count": null,
   "metadata": {},
   "outputs": [],
   "source": []
  }
 ],
 "metadata": {
  "kernelspec": {
   "display_name": "Python 3 (ipykernel)",
   "language": "python",
   "name": "python3"
  },
  "language_info": {
   "codemirror_mode": {
    "name": "ipython",
    "version": 3
   },
   "file_extension": ".py",
   "mimetype": "text/x-python",
   "name": "python",
   "nbconvert_exporter": "python",
   "pygments_lexer": "ipython3",
   "version": "3.11.10"
  }
 },
 "nbformat": 4,
 "nbformat_minor": 2
}
